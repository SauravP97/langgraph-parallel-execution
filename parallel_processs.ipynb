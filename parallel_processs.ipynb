{
 "cells": [
  {
   "cell_type": "code",
   "execution_count": 6,
   "metadata": {},
   "outputs": [],
   "source": [
    "import operator\n",
    "\n",
    "from langchain_openai import ChatOpenAI\n",
    "from langchain_core.output_parsers import StrOutputParser\n",
    "from langchain_core.language_models.chat_models import BaseChatModel\n",
    "from langchain_core.prompts import PromptTemplate\n",
    "from typing import Annotated\n",
    "from typing_extensions import TypedDict\n",
    "from langgraph.graph import START, StateGraph, END\n",
    "from dotenv import load_dotenv"
   ]
  },
  {
   "cell_type": "code",
   "execution_count": 8,
   "metadata": {},
   "outputs": [],
   "source": [
    "# Custom Reducer & Shared State\n",
    "def custom_reducer(model1, model2):\n",
    "   return model2\n",
    "\n",
    "class SharedState(TypedDict):\n",
    "    starters: Annotated[str, custom_reducer]\n",
    "    model: Annotated[BaseChatModel, custom_reducer]\n",
    "    dsa_topics: Annotated[list, operator.add]\n",
    "    system_design_topics: Annotated[list, operator.add]\n",
    "    project_ideas: Annotated[list,operator.add]"
   ]
  },
  {
   "cell_type": "code",
   "execution_count": 9,
   "metadata": {},
   "outputs": [],
   "source": [
    "# Node: Get DSA Topics\n",
    "def get_dsa_topics(state):\n",
    "  system = '''\n",
    "  You are a Software Engineering interview assistant. You are instructed to provide a list of\n",
    "  5 Data Structures which should be most crucial for cracking Coding Interview rounds of top\n",
    "  Product Based companies.\n",
    "  \n",
    "  Please provide only the comma separated list.\n",
    "  '''\n",
    "\n",
    "  prompt = PromptTemplate(template=system)\n",
    "  chain = prompt | state['model'] | StrOutputParser()\n",
    "\n",
    "  answer = chain.invoke({})\n",
    "  state['dsa_topics'] = answer.split(\",\")\n",
    "\n",
    "  return state"
   ]
  },
  {
   "cell_type": "code",
   "execution_count": 10,
   "metadata": {},
   "outputs": [],
   "source": [
    "# Node: Get System Design Topics\n",
    "def get_system_design_topics(state):\n",
    "  system = '''\n",
    "  You are a Software Engineering interview assistant. You are instructed to provide a list of\n",
    "  5 System Design topics which should be most crucial for cracking Coding Interview rounds of top\n",
    "  Product Based companies.\n",
    "  \n",
    "  Please provide only the comma separated list.\n",
    "  '''\n",
    "\n",
    "  prompt = PromptTemplate(template=system)\n",
    "  chain = prompt | state['model'] | StrOutputParser()\n",
    "\n",
    "  answer = chain.invoke({})\n",
    "  state['system_design_topics'] = answer.split(\",\")\n",
    "\n",
    "  return state"
   ]
  },
  {
   "cell_type": "code",
   "execution_count": 11,
   "metadata": {},
   "outputs": [],
   "source": [
    "# Node: Get Project ideas\n",
    "def get_project_ideas(state):\n",
    "  system = '''\n",
    "  You are a Software Engineering interview assistant. You are instructed to provide a list of\n",
    "  5 Project ideas which should be most crucial for cracking Coding Interview rounds of top\n",
    "  Product Based companies.\n",
    "  \n",
    "  Please provide only the comma separated list.\n",
    "  '''\n",
    "\n",
    "  prompt = PromptTemplate(template=system)\n",
    "  chain = prompt | state['model'] | StrOutputParser()\n",
    "\n",
    "  answer = chain.invoke({})\n",
    "  state['project_ideas'] = answer.split(\",\")\n",
    "\n",
    "  return state"
   ]
  },
  {
   "cell_type": "code",
   "execution_count": 12,
   "metadata": {},
   "outputs": [],
   "source": [
    "# Node: Create Model\n",
    "def create_model(state):\n",
    "   model = ChatOpenAI(model_name=\"gpt-4o\")\n",
    "   state['model'] = model\n",
    "   \n",
    "   return state"
   ]
  },
  {
   "cell_type": "code",
   "execution_count": 14,
   "metadata": {},
   "outputs": [
    {
     "name": "stdout",
     "output_type": "stream",
     "text": [
      "%%{init: {'flowchart': {'curve': 'linear'}}}%%\n",
      "graph TD;\n",
      "\t__start__([<p>__start__</p>]):::first\n",
      "\tcreate_model(create_model)\n",
      "\tget_dsa_topics(get_dsa_topics)\n",
      "\tget_system_design_topics(get_system_design_topics)\n",
      "\tget_project_ideas(get_project_ideas)\n",
      "\t__end__([<p>__end__</p>]):::last\n",
      "\t__start__ --> create_model;\n",
      "\tcreate_model --> get_dsa_topics;\n",
      "\tget_dsa_topics --> get_system_design_topics;\n",
      "\tget_project_ideas --> __end__;\n",
      "\tget_system_design_topics --> get_project_ideas;\n",
      "\tclassDef default fill:#f2f0ff,line-height:1.2\n",
      "\tclassDef first fill-opacity:0\n",
      "\tclassDef last fill:#bfb6fc\n",
      "\n"
     ]
    },
    {
     "data": {
      "image/png": "[encoded data removed]",
      "text/plain": [
       "<IPython.core.display.Image object>"
      ]
     },
     "metadata": {},
     "output_type": "display_data"
    },
    {
     "name": "stdout",
     "output_type": "stream",
     "text": [
      "['Array', ' Linked List', ' Stack', ' Queue', ' Binary Tree', 'Array', ' Linked List', ' Stack', ' Queue', ' Binary Tree', 'Array', ' Linked List', ' Stack', ' Queue', ' Binary Tree', 'Array', ' Linked List', ' Stack', ' Queue', ' Binary Tree']\n",
      "['Scalability', ' Load Balancing', ' Database Sharding', ' Caching', ' CAP Theorem', 'Scalability', ' Load Balancing', ' Database Sharding', ' Caching', ' CAP Theorem']\n",
      "['Data Structures and Algorithms Visualizer', ' Online Code Editor and Compiler', ' Real-time Chat Application', ' Collaborative Document Editor', ' Stock Price Prediction using Machine Learning.']\n"
     ]
    }
   ],
   "source": [
    "from IPython.display import Image, display\n",
    "\n",
    "def build_graph(serially=False):\n",
    "   load_dotenv()\n",
    "   workflow = StateGraph(SharedState)\n",
    "\n",
    "   workflow.add_node(\"create_model\", create_model)\n",
    "   workflow.add_node(\"get_dsa_topics\", get_dsa_topics)\n",
    "   workflow.add_node(\"get_system_design_topics\", get_system_design_topics)\n",
    "   workflow.add_node(\"get_project_ideas\", get_project_ideas)\n",
    "\n",
    "   if (serially):\n",
    "      # Serial arrangement\n",
    "      workflow.add_edge(START, \"create_model\")\n",
    "      workflow.add_edge(\"create_model\", \"get_dsa_topics\")\n",
    "      workflow.add_edge(\"get_dsa_topics\", \"get_system_design_topics\")\n",
    "      workflow.add_edge(\"get_system_design_topics\", \"get_project_ideas\")\n",
    "      workflow.add_edge(\"get_project_ideas\", END)\n",
    "   else:\n",
    "      # Parallel arrangement\n",
    "      workflow.add_edge(START, \"create_model\")\n",
    "      workflow.add_edge(\"create_model\", \"get_dsa_topics\")\n",
    "      workflow.add_edge(\"create_model\", \"get_system_design_topics\")\n",
    "      workflow.add_edge(\"create_model\", \"get_project_ideas\")\n",
    "      workflow.add_edge(\"get_dsa_topics\", END)\n",
    "      workflow.add_edge(\"get_system_design_topics\", END)\n",
    "      workflow.add_edge(\"get_project_ideas\", END)\n",
    "\n",
    "   graph = workflow.compile()\n",
    "\n",
    "   try:\n",
    "      print(graph.get_graph().draw_mermaid())\n",
    "      display(Image(graph.get_graph(xray=True).draw_mermaid_png()))\n",
    "   except Exception:\n",
    "      # This requires some extra dependencies and is optional\n",
    "      pass\n",
    "\n",
    "   return graph.invoke({\n",
    "      \"starters\": \"Starting the graph execution\"\n",
    "   })\n",
    "\n",
    "response = build_graph(True)\n",
    "print(response['dsa_topics'])\n",
    "print(response['system_design_topics'])\n",
    "print(response['project_ideas'])"
   ]
  }
 ],
 "metadata": {
  "kernelspec": {
   "display_name": "langchain-play",
   "language": "python",
   "name": "python3"
  },
  "language_info": {
   "codemirror_mode": {
    "name": "ipython",
    "version": 3
   },
   "file_extension": ".py",
   "mimetype": "text/x-python",
   "name": "python",
   "nbconvert_exporter": "python",
   "pygments_lexer": "ipython3",
   "version": "3.13.1"
  }
 },
 "nbformat": 4,
 "nbformat_minor": 2
}
